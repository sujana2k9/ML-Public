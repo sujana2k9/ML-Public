{
  "nbformat": 4,
  "nbformat_minor": 0,
  "metadata": {
    "colab": {
      "name": "Untitled0.ipynb",
      "version": "0.3.2",
      "provenance": [],
      "collapsed_sections": [],
      "include_colab_link": true
    },
    "kernelspec": {
      "name": "python3",
      "display_name": "Python 3"
    }
  },
  "cells": [
    {
      "cell_type": "markdown",
      "metadata": {
        "id": "view-in-github",
        "colab_type": "text"
      },
      "source": [
        "<a href=\"https://colab.research.google.com/github/sujana2k9/ML-Public/blob/master/ML_Basic.ipynb\" target=\"_parent\"><img src=\"https://colab.research.google.com/assets/colab-badge.svg\" alt=\"Open In Colab\"/></a>"
      ]
    },
    {
      "metadata": {
        "id": "DuSRP8ullZMY",
        "colab_type": "code",
        "outputId": "87fb9d2b-e1fc-4d73-a299-d330ee32ddf8",
        "colab": {
          "base_uri": "https://localhost:8080/",
          "height": 208
        }
      },
      "cell_type": "code",
      "source": [
        "import tensorflow as tf\n",
        "import numpy as np\n",
        "from tensorflow import keras\n",
        "\n",
        "model= tf.keras.Sequential([keras.layers.Dense(units=1, input_shape=[1])])\n",
        "model.compile(optimizer='sgd', loss='mean_squared_error')\n",
        "x =np.array([1.0, 3.0, 6.0, 9.0], dtype=float)\n",
        "y =np.array([2.0, 5.0, 8.0, 11.0], dtype=float)\n",
        "model.fit(x, y, epochs=5)\n",
        "print(model.predict([10.0]))\n",
        "\n"
      ],
      "execution_count": 0,
      "outputs": [
        {
          "output_type": "stream",
          "text": [
            "Epoch 1/5\n",
            "4/4 [==============================] - 0s 28ms/sample - loss: 134.4922\n",
            "Epoch 2/5\n",
            "4/4 [==============================] - 0s 1ms/sample - loss: 16.8498\n",
            "Epoch 3/5\n",
            "4/4 [==============================] - 0s 600us/sample - loss: 2.3817\n",
            "Epoch 4/5\n",
            "4/4 [==============================] - 0s 1ms/sample - loss: 0.6000\n",
            "Epoch 5/5\n",
            "4/4 [==============================] - 0s 473us/sample - loss: 0.3784\n",
            "[[12.653952]]\n"
          ],
          "name": "stdout"
        }
      ]
    },
    {
      "metadata": {
        "id": "ACW4ANulou5r",
        "colab_type": "code",
        "colab": {}
      },
      "cell_type": "code",
      "source": [
        ""
      ],
      "execution_count": 0,
      "outputs": []
    }
  ]
}